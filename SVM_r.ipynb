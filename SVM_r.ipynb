{
 "cells": [
  {
   "cell_type": "markdown",
   "metadata": {},
   "source": [
    "# 1. Aquisição e transformação dos dados"
   ]
  },
  {
   "cell_type": "code",
   "execution_count": 1,
   "metadata": {},
   "outputs": [],
   "source": [
    "import pandas as pd\n",
    "import numpy as np\n",
    "import matplotlib.pyplot as plt\n",
    "from sklearn.linear_model import LogisticRegression\n",
    "from sklearn.decomposition import PCA\n",
    "from sklearn.preprocessing import StandardScaler\n",
    "import plotly.express as px\n",
    "from imblearn.over_sampling import ADASYN, RandomOverSampler, SMOTE\n",
    "from imblearn.under_sampling import RandomUnderSampler\n",
    "from imblearn.pipeline import Pipeline\n",
    "from collections import Counter\n",
    "from imblearn.metrics import geometric_mean_score"
   ]
  },
  {
   "cell_type": "code",
   "execution_count": 2,
   "metadata": {},
   "outputs": [],
   "source": [
    "r_wine = pd.read_csv('datasets/winequality-red.csv', sep = ';')"
   ]
  },
  {
   "cell_type": "code",
   "execution_count": 3,
   "metadata": {},
   "outputs": [],
   "source": [
    "x = r_wine.iloc[:, 0:-1]\n",
    "y = r_wine.iloc[:, -1]"
   ]
  },
  {
   "cell_type": "code",
   "execution_count": 4,
   "metadata": {},
   "outputs": [],
   "source": [
    "from sklearn.model_selection import train_test_split\n",
    "\n",
    "x_train, x_test, y_train, y_test = train_test_split(x, y, test_size=0.25, random_state=1)\n",
    "x_train = np.array(x_train)\n",
    "x_test = np.array(x_test)"
   ]
  },
  {
   "cell_type": "code",
   "execution_count": 5,
   "metadata": {},
   "outputs": [
    {
     "data": {
      "image/png": "[encoded data removed]",
      "text/plain": [
       "<Figure size 640x480 with 1 Axes>"
      ]
     },
     "metadata": {},
     "output_type": "display_data"
    }
   ],
   "source": [
    "counter = Counter(y_train)\n",
    "plt.bar(counter.keys(), counter.values())\n",
    "plt.savefig('originaçl_data_r.png')\n",
    "plt.show()"
   ]
  },
  {
   "cell_type": "markdown",
   "metadata": {},
   "source": [
    "# 2. ADASYN e Undersampling"
   ]
  },
  {
   "cell_type": "code",
   "execution_count": 6,
   "metadata": {},
   "outputs": [
    {
     "data": {
      "text/plain": [
       "5    510\n",
       "6    471\n",
       "7    157\n",
       "4     37\n",
       "8     15\n",
       "3      9\n",
       "Name: quality, dtype: int64"
      ]
     },
     "execution_count": 6,
     "metadata": {},
     "output_type": "execute_result"
    }
   ],
   "source": [
    "y_train.value_counts()"
   ]
  },
  {
   "cell_type": "code",
   "execution_count": 7,
   "metadata": {},
   "outputs": [],
   "source": [
    "wg = y_train.value_counts()"
   ]
  },
  {
   "cell_type": "code",
   "execution_count": 8,
   "metadata": {},
   "outputs": [],
   "source": [
    "for i in range(0, len(wg)):\n",
    "    if wg[i+3] < 6:\n",
    "        wg[i+3] = 6\n",
    "\n",
    "strategy1_w = {3:wg[3], 4:wg[4], 5:wg[5], 6:wg[6], 7:wg[7], 8:wg[8]}\n",
    "fix = RandomOverSampler(sampling_strategy=strategy1_w)"
   ]
  },
  {
   "cell_type": "code",
   "execution_count": 9,
   "metadata": {},
   "outputs": [],
   "source": [
    "wg[8] = round(0.15*wg[5])\n",
    "wg[4] = round(0.2*wg[5])\n",
    "wg[3] = round(0.1*wg[5])\n",
    "\n",
    "strategy2_w = {3:wg[3], 4:wg[4], 8:wg[8]}\n",
    "over = ADASYN(sampling_strategy=strategy2_w)"
   ]
  },
  {
   "cell_type": "code",
   "execution_count": 10,
   "metadata": {},
   "outputs": [],
   "source": [
    "wg[5] = round(0.5*wg[5])\n",
    "wg[6] = round(0.6*wg[6])\n",
    "\n",
    "strategy3_w = {5:wg[5], 6:wg[6]}\n",
    "under = RandomUnderSampler(sampling_strategy=strategy3_w)"
   ]
  },
  {
   "cell_type": "code",
   "execution_count": 11,
   "metadata": {},
   "outputs": [],
   "source": [
    "steps = [('f', fix), ('o', over), ('u', under)]\n",
    "pipeline = Pipeline(steps=steps)\n",
    "x_train, y_train = pipeline.fit_resample(x_train, y_train)"
   ]
  },
  {
   "cell_type": "code",
   "execution_count": 12,
   "metadata": {},
   "outputs": [
    {
     "data": {
      "image/png": "[encoded data removed]",
      "text/plain": [
       "<Figure size 640x480 with 1 Axes>"
      ]
     },
     "metadata": {},
     "output_type": "display_data"
    }
   ],
   "source": [
    "counter = Counter(y_train)\n",
    "plt.bar(counter.keys(), counter.values())\n",
    "plt.savefig('SMOTE_data_r.png')\n",
    "plt.show()"
   ]
  },
  {
   "cell_type": "markdown",
   "metadata": {},
   "source": [
    "# 3. Implementação da RNA"
   ]
  },
  {
   "cell_type": "markdown",
   "metadata": {},
   "source": [
    "## 3.1 Descoberta dos hyperparâmetros (Otimização Bayseana)"
   ]
  },
  {
   "cell_type": "code",
   "execution_count": 13,
   "metadata": {},
   "outputs": [
    {
     "name": "stderr",
     "output_type": "stream",
     "text": [
      "2022-11-27 21:05:23.067581: I tensorflow/core/platform/cpu_feature_guard.cc:193] This TensorFlow binary is optimized with oneAPI Deep Neural Network Library (oneDNN) to use the following CPU instructions in performance-critical operations:  AVX2 FMA\n",
      "To enable them in other operations, rebuild TensorFlow with the appropriate compiler flags.\n",
      "2022-11-27 21:05:23.408468: W tensorflow/stream_executor/platform/default/dso_loader.cc:64] Could not load dynamic library 'libcudart.so.11.0'; dlerror: libcudart.so.11.0: cannot open shared object file: No such file or directory\n",
      "2022-11-27 21:05:23.408485: I tensorflow/stream_executor/cuda/cudart_stub.cc:29] Ignore above cudart dlerror if you do not have a GPU set up on your machine.\n",
      "2022-11-27 21:05:23.445874: E tensorflow/stream_executor/cuda/cuda_blas.cc:2981] Unable to register cuBLAS factory: Attempting to register factory for plugin cuBLAS when one has already been registered\n",
      "2022-11-27 21:05:24.352305: W tensorflow/stream_executor/platform/default/dso_loader.cc:64] Could not load dynamic library 'libnvinfer.so.7'; dlerror: libnvinfer.so.7: cannot open shared object file: No such file or directory\n",
      "2022-11-27 21:05:24.352577: W tensorflow/stream_executor/platform/default/dso_loader.cc:64] Could not load dynamic library 'libnvinfer_plugin.so.7'; dlerror: libnvinfer_plugin.so.7: cannot open shared object file: No such file or directory\n",
      "2022-11-27 21:05:24.352584: W tensorflow/compiler/tf2tensorrt/utils/py_utils.cc:38] TF-TRT Warning: Cannot dlopen some TensorRT libraries. If you would like to use Nvidia GPU with TensorRT, please make sure the missing libraries mentioned above are installed properly.\n"
     ]
    }
   ],
   "source": [
    "# Import packages\n",
    "from sklearn.model_selection import cross_val_score, RepeatedStratifiedKFold, KFold\n",
    "from sklearn.preprocessing import scale\n",
    "from sklearn.svm import SVC\n",
    "from tensorflow.keras.callbacks import EarlyStopping\n",
    "from tensorflow.keras.wrappers.scikit_learn import KerasClassifier\n",
    "from sklearn.metrics import make_scorer, roc_auc_score, accuracy_score, recall_score, f1_score\n",
    "from bayes_opt import BayesianOptimization\n",
    "from keras.layers import LeakyReLU\n",
    "LeakyReLU = LeakyReLU(alpha=0.1)\n",
    "from scikeras.wrappers import KerasClassifier\n",
    "from sklearn import metrics\n",
    "import math\n",
    "\n",
    "pd.set_option(\"display.max_columns\", None)"
   ]
  },
  {
   "cell_type": "code",
   "execution_count": 14,
   "metadata": {},
   "outputs": [],
   "source": [
    "score_acc = make_scorer(roc_auc_score)"
   ]
  },
  {
   "cell_type": "code",
   "execution_count": 15,
   "metadata": {},
   "outputs": [],
   "source": [
    "x_train = np.array(x_train)\n",
    "x_test = np.array(x_test)\n",
    "\n",
    "x_train = scale(x_train)\n",
    "x_test = scale(x_test)"
   ]
  },
  {
   "cell_type": "code",
   "execution_count": 16,
   "metadata": {},
   "outputs": [
    {
     "data": {
      "text/plain": [
       "(929,)"
      ]
     },
     "execution_count": 16,
     "metadata": {},
     "output_type": "execute_result"
    }
   ],
   "source": [
    "y_train.shape"
   ]
  },
  {
   "cell_type": "code",
   "execution_count": 17,
   "metadata": {},
   "outputs": [],
   "source": [
    "def svm(c, gamma, w3, w4, w5, w6, w7, w8):\n",
    "\n",
    "    weights = [w3, w4, w5, w6, w7, w8]\n",
    "\n",
    "    w = {}\n",
    "    for i in range(0, len(weights)):\n",
    "        index = i+3\n",
    "        w[index] = weights[i]\n",
    "\n",
    "    svm_w = SVC(random_state=0, C=c, gamma=gamma, class_weight= w, probability=True)\n",
    "\n",
    "    return svm_w"
   ]
  },
  {
   "cell_type": "code",
   "execution_count": 18,
   "metadata": {},
   "outputs": [],
   "source": [
    "def evaluate_model(c, gamma, w3, w4, w5, w6, w7, w8):\n",
    "\n",
    "    c = round(c, 3)\n",
    "    gamma = round(gamma, 3)\n",
    "    w3 = round(w3, 3)\n",
    "    w4 = round(w4, 3)\n",
    "    w5 = round(w5, 3)\n",
    "    w6 = round(w6, 3)\n",
    "    w7 = round(w7, 3)\n",
    "    w8 = round(w8, 3)\n",
    "    \n",
    "    svm_w = svm(c, gamma, w3, w4, w5, w6, w7, w8)\n",
    "\n",
    "    kf = KFold(n_splits=10, random_state=0, shuffle=True)\n",
    "    score = []\n",
    "    \n",
    "    for train_index, test_index in kf.split(x_train):\n",
    "        # print(\"TRAIN:\", train_index, \"TEST:\", test_index)\n",
    "        xtr, xte = x_train[train_index], x_train[test_index]\n",
    "        ytr, yte = y_train[train_index], y_train[test_index]\n",
    "\n",
    "        svm_w.fit(xtr, ytr)\n",
    "        y_pred = svm_w.predict(xte)\n",
    "        proba = svm_w.predict_proba(xte)\n",
    "\n",
    "        roc = roc_auc_score(yte, proba, multi_class='ovr')\n",
    "        acc = accuracy_score(yte, y_pred)\n",
    "        score.append(math.sqrt(acc*roc))\n",
    "\n",
    "    score = sum(score)/len(score)\n",
    "    return score"
   ]
  },
  {
   "cell_type": "code",
   "execution_count": 82,
   "metadata": {},
   "outputs": [],
   "source": [
    "pbounds = {'c': (0.001,100),\n",
    "            'gamma': (0.001,100),\n",
    "            'w3': (0.001,100),\n",
    "            'w4': (0.001,100),\n",
    "            'w5': (0.001,100),\n",
    "            'w6': (0.001,100),\n",
    "            'w7': (0.001,100),\n",
    "            'w8': (0.001,100)\n",
    "            }\n",
    "\n",
    "optimizer = BayesianOptimization(\n",
    "    f=evaluate_model,\n",
    "    pbounds=pbounds,\n",
    "    verbose=2,  # verbose = 1 prints only when a maximum \n",
    "    # is observed, verbose = 0 is silent\n",
    "    random_state=1\n",
    ")"
   ]
  },
  {
   "cell_type": "code",
   "execution_count": 83,
   "metadata": {},
   "outputs": [
    {
     "name": "stdout",
     "output_type": "stream",
     "text": [
      "|   iter    |  target   |     c     |   gamma   |    w3     |    w4     |    w5     |    w6     |    w7     |    w8     |\n",
      "-------------------------------------------------------------------------------------------------------------------------\n",
      "| \u001b[0m1        \u001b[0m | \u001b[0m0.5543   \u001b[0m | \u001b[0m41.7     \u001b[0m | \u001b[0m72.03    \u001b[0m | \u001b[0m0.01244  \u001b[0m | \u001b[0m30.23    \u001b[0m | \u001b[0m14.68    \u001b[0m | \u001b[0m9.235    \u001b[0m | \u001b[0m18.63    \u001b[0m | \u001b[0m34.56    \u001b[0m |\n",
      "| \u001b[95m2        \u001b[0m | \u001b[95m0.5747   \u001b[0m | \u001b[95m39.68    \u001b[0m | \u001b[95m53.88    \u001b[0m | \u001b[95m41.92    \u001b[0m | \u001b[95m68.52    \u001b[0m | \u001b[95m20.45    \u001b[0m | \u001b[95m87.81    \u001b[0m | \u001b[95m2.74     \u001b[0m | \u001b[95m67.05    \u001b[0m |\n",
      "| \u001b[0m3        \u001b[0m | \u001b[0m0.5738   \u001b[0m | \u001b[0m41.73    \u001b[0m | \u001b[0m55.87    \u001b[0m | \u001b[0m14.04    \u001b[0m | \u001b[0m19.81    \u001b[0m | \u001b[0m80.07    \u001b[0m | \u001b[0m96.83    \u001b[0m | \u001b[0m31.34    \u001b[0m | \u001b[0m69.23    \u001b[0m |\n",
      "| \u001b[0m4        \u001b[0m | \u001b[0m0.5501   \u001b[0m | \u001b[0m87.64    \u001b[0m | \u001b[0m89.46    \u001b[0m | \u001b[0m8.505    \u001b[0m | \u001b[0m3.906    \u001b[0m | \u001b[0m16.98    \u001b[0m | \u001b[0m87.81    \u001b[0m | \u001b[0m9.836    \u001b[0m | \u001b[0m42.11    \u001b[0m |\n",
      "| \u001b[95m5        \u001b[0m | \u001b[95m0.5755   \u001b[0m | \u001b[95m95.79    \u001b[0m | \u001b[95m53.32    \u001b[0m | \u001b[95m69.19    \u001b[0m | \u001b[95m31.55    \u001b[0m | \u001b[95m68.65    \u001b[0m | \u001b[95m83.46    \u001b[0m | \u001b[95m1.83     \u001b[0m | \u001b[95m75.01    \u001b[0m |\n",
      "| \u001b[0m6        \u001b[0m | \u001b[0m0.557    \u001b[0m | \u001b[0m98.89    \u001b[0m | \u001b[0m74.82    \u001b[0m | \u001b[0m28.05    \u001b[0m | \u001b[0m78.93    \u001b[0m | \u001b[0m10.32    \u001b[0m | \u001b[0m44.79    \u001b[0m | \u001b[0m90.86    \u001b[0m | \u001b[0m29.36    \u001b[0m |\n",
      "| \u001b[95m7        \u001b[0m | \u001b[95m0.6202   \u001b[0m | \u001b[95m28.78    \u001b[0m | \u001b[95m13.0     \u001b[0m | \u001b[95m1.938    \u001b[0m | \u001b[95m67.88    \u001b[0m | \u001b[95m21.16    \u001b[0m | \u001b[95m26.56    \u001b[0m | \u001b[95m49.16    \u001b[0m | \u001b[95m5.337    \u001b[0m |\n",
      "| \u001b[0m8        \u001b[0m | \u001b[0m0.6161   \u001b[0m | \u001b[0m57.41    \u001b[0m | \u001b[0m14.67    \u001b[0m | \u001b[0m58.93    \u001b[0m | \u001b[0m69.98    \u001b[0m | \u001b[0m10.23    \u001b[0m | \u001b[0m41.41    \u001b[0m | \u001b[0m69.44    \u001b[0m | \u001b[0m41.42    \u001b[0m |\n",
      "| \u001b[0m9        \u001b[0m | \u001b[0m0.5747   \u001b[0m | \u001b[0m4.996    \u001b[0m | \u001b[0m53.59    \u001b[0m | \u001b[0m66.38    \u001b[0m | \u001b[0m51.49    \u001b[0m | \u001b[0m94.46    \u001b[0m | \u001b[0m58.66    \u001b[0m | \u001b[0m90.34    \u001b[0m | \u001b[0m13.75    \u001b[0m |\n",
      "| \u001b[0m10       \u001b[0m | \u001b[0m0.5554   \u001b[0m | \u001b[0m13.93    \u001b[0m | \u001b[0m80.74    \u001b[0m | \u001b[0m39.77    \u001b[0m | \u001b[0m16.54    \u001b[0m | \u001b[0m92.75    \u001b[0m | \u001b[0m34.78    \u001b[0m | \u001b[0m75.08    \u001b[0m | \u001b[0m72.6     \u001b[0m |\n",
      "| \u001b[0m11       \u001b[0m | \u001b[0m0.566    \u001b[0m | \u001b[0m88.33    \u001b[0m | \u001b[0m62.37    \u001b[0m | \u001b[0m75.09    \u001b[0m | \u001b[0m34.89    \u001b[0m | \u001b[0m26.99    \u001b[0m | \u001b[0m89.59    \u001b[0m | \u001b[0m42.81    \u001b[0m | \u001b[0m96.48    \u001b[0m |\n",
      "| \u001b[0m12       \u001b[0m | \u001b[0m0.5659   \u001b[0m | \u001b[0m66.34    \u001b[0m | \u001b[0m62.17    \u001b[0m | \u001b[0m11.48    \u001b[0m | \u001b[0m94.95    \u001b[0m | \u001b[0m44.99    \u001b[0m | \u001b[0m57.84    \u001b[0m | \u001b[0m40.81    \u001b[0m | \u001b[0m23.7     \u001b[0m |\n",
      "| \u001b[0m13       \u001b[0m | \u001b[0m0.5697   \u001b[0m | \u001b[0m90.34    \u001b[0m | \u001b[0m57.37    \u001b[0m | \u001b[0m0.288    \u001b[0m | \u001b[0m61.71    \u001b[0m | \u001b[0m32.67    \u001b[0m | \u001b[0m52.71    \u001b[0m | \u001b[0m88.59    \u001b[0m | \u001b[0m35.73    \u001b[0m |\n",
      "| \u001b[0m14       \u001b[0m | \u001b[0m0.5662   \u001b[0m | \u001b[0m90.85    \u001b[0m | \u001b[0m62.34    \u001b[0m | \u001b[0m1.583    \u001b[0m | \u001b[0m92.94    \u001b[0m | \u001b[0m69.09    \u001b[0m | \u001b[0m99.73    \u001b[0m | \u001b[0m17.23    \u001b[0m | \u001b[0m13.71    \u001b[0m |\n",
      "| \u001b[0m15       \u001b[0m | \u001b[0m0.5586   \u001b[0m | \u001b[0m93.26    \u001b[0m | \u001b[0m69.68    \u001b[0m | \u001b[0m6.601    \u001b[0m | \u001b[0m75.55    \u001b[0m | \u001b[0m75.39    \u001b[0m | \u001b[0m92.3     \u001b[0m | \u001b[0m71.15    \u001b[0m | \u001b[0m12.43    \u001b[0m |\n",
      "| \u001b[95m16       \u001b[0m | \u001b[95m0.7398   \u001b[0m | \u001b[95m1.989    \u001b[0m | \u001b[95m2.622    \u001b[0m | \u001b[95m2.832    \u001b[0m | \u001b[95m24.62    \u001b[0m | \u001b[95m86.0     \u001b[0m | \u001b[95m53.88    \u001b[0m | \u001b[95m55.28    \u001b[0m | \u001b[95m84.2     \u001b[0m |\n",
      "| \u001b[0m17       \u001b[0m | \u001b[0m0.6      \u001b[0m | \u001b[0m12.42    \u001b[0m | \u001b[0m27.92    \u001b[0m | \u001b[0m58.58    \u001b[0m | \u001b[0m96.96    \u001b[0m | \u001b[0m56.1     \u001b[0m | \u001b[0m1.866    \u001b[0m | \u001b[0m80.06    \u001b[0m | \u001b[0m23.3     \u001b[0m |\n",
      "| \u001b[0m18       \u001b[0m | \u001b[0m0.587    \u001b[0m | \u001b[0m80.71    \u001b[0m | \u001b[0m38.79    \u001b[0m | \u001b[0m86.35    \u001b[0m | \u001b[0m74.71    \u001b[0m | \u001b[0m55.62    \u001b[0m | \u001b[0m13.65    \u001b[0m | \u001b[0m5.993    \u001b[0m | \u001b[0m12.14    \u001b[0m |\n",
      "| \u001b[0m19       \u001b[0m | \u001b[0m0.624    \u001b[0m | \u001b[0m4.456    \u001b[0m | \u001b[0m10.75    \u001b[0m | \u001b[0m22.57    \u001b[0m | \u001b[0m71.3     \u001b[0m | \u001b[0m55.97    \u001b[0m | \u001b[0m1.257    \u001b[0m | \u001b[0m7.198    \u001b[0m | \u001b[0m96.73    \u001b[0m |\n",
      "| \u001b[0m20       \u001b[0m | \u001b[0m0.6069   \u001b[0m | \u001b[0m56.81    \u001b[0m | \u001b[0m20.33    \u001b[0m | \u001b[0m25.23    \u001b[0m | \u001b[0m74.38    \u001b[0m | \u001b[0m19.54    \u001b[0m | \u001b[0m58.14    \u001b[0m | \u001b[0m97.0     \u001b[0m | \u001b[0m84.68    \u001b[0m |\n",
      "| \u001b[0m21       \u001b[0m | \u001b[0m0.5792   \u001b[0m | \u001b[0m23.99    \u001b[0m | \u001b[0m49.38    \u001b[0m | \u001b[0m62.0     \u001b[0m | \u001b[0m82.9     \u001b[0m | \u001b[0m15.68    \u001b[0m | \u001b[0m1.859    \u001b[0m | \u001b[0m7.003    \u001b[0m | \u001b[0m48.64    \u001b[0m |\n",
      "| \u001b[0m22       \u001b[0m | \u001b[0m0.5707   \u001b[0m | \u001b[0m60.63    \u001b[0m | \u001b[0m56.89    \u001b[0m | \u001b[0m31.74    \u001b[0m | \u001b[0m98.86    \u001b[0m | \u001b[0m57.97    \u001b[0m | \u001b[0m38.01    \u001b[0m | \u001b[0m55.1     \u001b[0m | \u001b[0m74.53    \u001b[0m |\n",
      "| \u001b[0m23       \u001b[0m | \u001b[0m0.6012   \u001b[0m | \u001b[0m66.92    \u001b[0m | \u001b[0m26.49    \u001b[0m | \u001b[0m6.634    \u001b[0m | \u001b[0m37.01    \u001b[0m | \u001b[0m62.97    \u001b[0m | \u001b[0m21.02    \u001b[0m | \u001b[0m75.28    \u001b[0m | \u001b[0m6.655    \u001b[0m |\n",
      "| \u001b[0m24       \u001b[0m | \u001b[0m0.5563   \u001b[0m | \u001b[0m26.03    \u001b[0m | \u001b[0m80.48    \u001b[0m | \u001b[0m19.34    \u001b[0m | \u001b[0m63.95    \u001b[0m | \u001b[0m52.47    \u001b[0m | \u001b[0m92.48    \u001b[0m | \u001b[0m26.33    \u001b[0m | \u001b[0m6.597    \u001b[0m |\n",
      "| \u001b[0m25       \u001b[0m | \u001b[0m0.5572   \u001b[0m | \u001b[0m73.51    \u001b[0m | \u001b[0m77.22    \u001b[0m | \u001b[0m90.78    \u001b[0m | \u001b[0m93.2     \u001b[0m | \u001b[0m1.396    \u001b[0m | \u001b[0m23.44    \u001b[0m | \u001b[0m61.68    \u001b[0m | \u001b[0m94.9     \u001b[0m |\n",
      "| \u001b[0m26       \u001b[0m | \u001b[0m0.5492   \u001b[0m | \u001b[0m90.87    \u001b[0m | \u001b[0m95.18    \u001b[0m | \u001b[0m91.81    \u001b[0m | \u001b[0m32.27    \u001b[0m | \u001b[0m80.88    \u001b[0m | \u001b[0m91.61    \u001b[0m | \u001b[0m36.72    \u001b[0m | \u001b[0m69.01    \u001b[0m |\n",
      "| \u001b[0m27       \u001b[0m | \u001b[0m0.6693   \u001b[0m | \u001b[0m0.3392   \u001b[0m | \u001b[0m5.256    \u001b[0m | \u001b[0m6.286    \u001b[0m | \u001b[0m19.71    \u001b[0m | \u001b[0m90.23    \u001b[0m | \u001b[0m50.62    \u001b[0m | \u001b[0m60.76    \u001b[0m | \u001b[0m88.21    \u001b[0m |\n",
      "| \u001b[0m28       \u001b[0m | \u001b[0m0.5996   \u001b[0m | \u001b[0m60.58    \u001b[0m | \u001b[0m28.02    \u001b[0m | \u001b[0m53.2     \u001b[0m | \u001b[0m61.91    \u001b[0m | \u001b[0m8.022    \u001b[0m | \u001b[0m39.73    \u001b[0m | \u001b[0m68.48    \u001b[0m | \u001b[0m42.56    \u001b[0m |\n",
      "| \u001b[0m29       \u001b[0m | \u001b[0m0.5797   \u001b[0m | \u001b[0m36.59    \u001b[0m | \u001b[0m46.92    \u001b[0m | \u001b[0m53.73    \u001b[0m | \u001b[0m26.53    \u001b[0m | \u001b[0m99.49    \u001b[0m | \u001b[0m22.38    \u001b[0m | \u001b[0m25.18    \u001b[0m | \u001b[0m89.39    \u001b[0m |\n",
      "| \u001b[0m30       \u001b[0m | \u001b[0m0.6692   \u001b[0m | \u001b[0m6.314    \u001b[0m | \u001b[0m5.276    \u001b[0m | \u001b[0m0.595    \u001b[0m | \u001b[0m18.14    \u001b[0m | \u001b[0m95.42    \u001b[0m | \u001b[0m44.64    \u001b[0m | \u001b[0m39.23    \u001b[0m | \u001b[0m90.0     \u001b[0m |\n",
      "| \u001b[95m31       \u001b[0m | \u001b[95m0.7442   \u001b[0m | \u001b[95m4.217    \u001b[0m | \u001b[95m1.471    \u001b[0m | \u001b[95m0.07951  \u001b[0m | \u001b[95m26.92    \u001b[0m | \u001b[95m85.19    \u001b[0m | \u001b[95m54.17    \u001b[0m | \u001b[95m46.9     \u001b[0m | \u001b[95m82.56    \u001b[0m |\n",
      "| \u001b[0m32       \u001b[0m | \u001b[0m0.6797   \u001b[0m | \u001b[0m0.9884   \u001b[0m | \u001b[0m4.538    \u001b[0m | \u001b[0m20.04    \u001b[0m | \u001b[0m24.66    \u001b[0m | \u001b[0m58.41    \u001b[0m | \u001b[0m75.47    \u001b[0m | \u001b[0m65.59    \u001b[0m | \u001b[0m71.68    \u001b[0m |\n",
      "| \u001b[0m33       \u001b[0m | \u001b[0m0.6024   \u001b[0m | \u001b[0m8.247    \u001b[0m | \u001b[0m24.96    \u001b[0m | \u001b[0m22.19    \u001b[0m | \u001b[0m86.99    \u001b[0m | \u001b[0m22.85    \u001b[0m | \u001b[0m41.57    \u001b[0m | \u001b[0m37.99    \u001b[0m | \u001b[0m94.97    \u001b[0m |\n",
      "| \u001b[0m34       \u001b[0m | \u001b[0m0.6265   \u001b[0m | \u001b[0m1.898    \u001b[0m | \u001b[0m0.001    \u001b[0m | \u001b[0m0.001    \u001b[0m | \u001b[0m32.99    \u001b[0m | \u001b[0m74.59    \u001b[0m | \u001b[0m61.77    \u001b[0m | \u001b[0m57.0     \u001b[0m | \u001b[0m76.7     \u001b[0m |\n",
      "| \u001b[0m35       \u001b[0m | \u001b[0m0.6408   \u001b[0m | \u001b[0m28.47    \u001b[0m | \u001b[0m7.275    \u001b[0m | \u001b[0m5.042    \u001b[0m | \u001b[0m62.84    \u001b[0m | \u001b[0m26.84    \u001b[0m | \u001b[0m39.41    \u001b[0m | \u001b[0m45.15    \u001b[0m | \u001b[0m10.44    \u001b[0m |\n",
      "| \u001b[0m36       \u001b[0m | \u001b[0m0.5867   \u001b[0m | \u001b[0m15.12    \u001b[0m | \u001b[0m38.97    \u001b[0m | \u001b[0m72.88    \u001b[0m | \u001b[0m61.21    \u001b[0m | \u001b[0m98.08    \u001b[0m | \u001b[0m20.08    \u001b[0m | \u001b[0m54.46    \u001b[0m | \u001b[0m11.58    \u001b[0m |\n",
      "| \u001b[0m37       \u001b[0m | \u001b[0m0.6358   \u001b[0m | \u001b[0m4.64     \u001b[0m | \u001b[0m0.001    \u001b[0m | \u001b[0m7.023    \u001b[0m | \u001b[0m20.89    \u001b[0m | \u001b[0m87.2     \u001b[0m | \u001b[0m57.47    \u001b[0m | \u001b[0m47.54    \u001b[0m | \u001b[0m83.44    \u001b[0m |\n",
      "| \u001b[0m38       \u001b[0m | \u001b[0m0.6099   \u001b[0m | \u001b[0m7.634    \u001b[0m | \u001b[0m17.01    \u001b[0m | \u001b[0m11.2     \u001b[0m | \u001b[0m23.69    \u001b[0m | \u001b[0m71.5     \u001b[0m | \u001b[0m43.73    \u001b[0m | \u001b[0m35.23    \u001b[0m | \u001b[0m83.93    \u001b[0m |\n",
      "| \u001b[95m39       \u001b[0m | \u001b[95m0.7827   \u001b[0m | \u001b[95m0.7089   \u001b[0m | \u001b[95m0.2764   \u001b[0m | \u001b[95m7.79     \u001b[0m | \u001b[95m46.71    \u001b[0m | \u001b[95m77.6     \u001b[0m | \u001b[95m60.61    \u001b[0m | \u001b[95m28.6     \u001b[0m | \u001b[95m73.76    \u001b[0m |\n",
      "| \u001b[0m40       \u001b[0m | \u001b[0m0.6284   \u001b[0m | \u001b[0m41.64    \u001b[0m | \u001b[0m9.709    \u001b[0m | \u001b[0m8.715    \u001b[0m | \u001b[0m41.79    \u001b[0m | \u001b[0m30.48    \u001b[0m | \u001b[0m70.92    \u001b[0m | \u001b[0m5.935    \u001b[0m | \u001b[0m14.78    \u001b[0m |\n",
      "| \u001b[0m41       \u001b[0m | \u001b[0m0.6087   \u001b[0m | \u001b[0m0.9433   \u001b[0m | \u001b[0m17.58    \u001b[0m | \u001b[0m8.932    \u001b[0m | \u001b[0m32.47    \u001b[0m | \u001b[0m90.78    \u001b[0m | \u001b[0m37.61    \u001b[0m | \u001b[0m56.86    \u001b[0m | \u001b[0m66.49    \u001b[0m |\n",
      "| \u001b[0m42       \u001b[0m | \u001b[0m0.6077   \u001b[0m | \u001b[0m59.34    \u001b[0m | \u001b[0m19.53    \u001b[0m | \u001b[0m62.81    \u001b[0m | \u001b[0m59.07    \u001b[0m | \u001b[0m14.82    \u001b[0m | \u001b[0m44.45    \u001b[0m | \u001b[0m65.12    \u001b[0m | \u001b[0m50.97    \u001b[0m |\n",
      "| \u001b[0m43       \u001b[0m | \u001b[0m0.7375   \u001b[0m | \u001b[0m13.53    \u001b[0m | \u001b[0m2.689    \u001b[0m | \u001b[0m10.81    \u001b[0m | \u001b[0m24.48    \u001b[0m | \u001b[0m63.33    \u001b[0m | \u001b[0m56.68    \u001b[0m | \u001b[0m39.26    \u001b[0m | \u001b[0m95.26    \u001b[0m |\n",
      "| \u001b[0m44       \u001b[0m | \u001b[0m0.5553   \u001b[0m | \u001b[0m56.48    \u001b[0m | \u001b[0m80.87    \u001b[0m | \u001b[0m97.38    \u001b[0m | \u001b[0m8.997    \u001b[0m | \u001b[0m47.16    \u001b[0m | \u001b[0m30.71    \u001b[0m | \u001b[0m11.12    \u001b[0m | \u001b[0m74.8     \u001b[0m |\n",
      "| \u001b[0m45       \u001b[0m | \u001b[0m0.6247   \u001b[0m | \u001b[0m19.45    \u001b[0m | \u001b[0m11.09    \u001b[0m | \u001b[0m7.006    \u001b[0m | \u001b[0m36.15    \u001b[0m | \u001b[0m98.51    \u001b[0m | \u001b[0m34.93    \u001b[0m | \u001b[0m56.05    \u001b[0m | \u001b[0m85.82    \u001b[0m |\n",
      "=========================================================================================================================\n"
     ]
    }
   ],
   "source": [
    "import warnings\n",
    "warnings.filterwarnings('ignore')\n",
    "from tensorflow.python.util import deprecation\n",
    "deprecation._PRINT_DEPRECATION_WARNINGS = False\n",
    "\n",
    "optimizer.maximize(init_points=25, n_iter=20,)"
   ]
  },
  {
   "cell_type": "code",
   "execution_count": 84,
   "metadata": {},
   "outputs": [
    {
     "data": {
      "text/plain": [
       "{'c': 0.7089144156727932,\n",
       " 'gamma': 0.2763997955719406,\n",
       " 'w3': 7.789912431180333,\n",
       " 'w4': 46.70665385385562,\n",
       " 'w5': 77.60165970074567,\n",
       " 'w6': 60.610019376884544,\n",
       " 'w7': 28.603590588584897,\n",
       " 'w8': 73.75931145614379}"
      ]
     },
     "execution_count": 84,
     "metadata": {},
     "output_type": "execute_result"
    }
   ],
   "source": [
    "params_ = optimizer.max['params']\n",
    "params_"
   ]
  },
  {
   "cell_type": "code",
   "execution_count": 44,
   "metadata": {},
   "outputs": [],
   "source": [
    "# svm_w = svm(26.65    , 0.7829   , 76.68    , 43.52    , 31.1     , 75.49    , 18.67    , 23.28      )\n",
    "\n",
    "\n",
    "svm_w = svm(params_['c'], params_['gamma'], params_[\"w3\"], params_[\"w4\"], params_[\"w5\"], \n",
    "            params_[\"w6\"], params_[\"w7\"], params_[\"w8\"])\n",
    "\n",
    "svm_w.fit(x_train, y_train)\n",
    "\n",
    "y_pred = svm_w.predict(x_test)"
   ]
  },
  {
   "cell_type": "code",
   "execution_count": 45,
   "metadata": {},
   "outputs": [
    {
     "data": {
      "text/plain": [
       "0.6075"
      ]
     },
     "execution_count": 45,
     "metadata": {},
     "output_type": "execute_result"
    }
   ],
   "source": [
    "svm_w.score(x_test, y_test)"
   ]
  },
  {
   "cell_type": "code",
   "execution_count": 46,
   "metadata": {},
   "outputs": [
    {
     "data": {
      "text/plain": [
       "array([[  0,   0,   0,   1,   0,   0],\n",
       "       [  1,   2,  11,   1,   1,   0],\n",
       "       [  3,   5, 112,  48,   3,   0],\n",
       "       [  0,   3,  37, 111,  15,   1],\n",
       "       [  0,   0,   2,  21,  17,   2],\n",
       "       [  0,   0,   0,   1,   1,   1]])"
      ]
     },
     "execution_count": 46,
     "metadata": {},
     "output_type": "execute_result"
    }
   ],
   "source": [
    "cm = metrics.confusion_matrix(y_test, y_pred)\n",
    "cm"
   ]
  },
  {
   "cell_type": "code",
   "execution_count": 49,
   "metadata": {},
   "outputs": [
    {
     "data": {
      "image/png": "[encoded data removed]",
      "text/plain": [
       "<Figure size 640x480 with 2 Axes>"
      ]
     },
     "metadata": {},
     "output_type": "display_data"
    }
   ],
   "source": [
    "cm_display = metrics.ConfusionMatrixDisplay(confusion_matrix = cm, display_labels = [3,4,5,6,7,8])\n",
    "cm_display.plot()\n",
    "plt.savefig(\"Csvm_r.png\")"
   ]
  },
  {
   "cell_type": "code",
   "execution_count": 48,
   "metadata": {},
   "outputs": [
    {
     "data": {
      "image/png": "[encoded data removed]",
      "text/plain": [
       "<Figure size 1500x800 with 2 Axes>"
      ]
     },
     "metadata": {},
     "output_type": "display_data"
    }
   ],
   "source": [
    "from sklearn.metrics import confusion_matrix\n",
    "import seaborn as sns\n",
    "\n",
    "cm = confusion_matrix(y_test, y_pred)\n",
    "# Normalise\n",
    "cmn = cm.astype('float') / cm.sum(axis=1)[:, np.newaxis]\n",
    "fig, ax = plt.subplots(figsize=(15,8))\n",
    "sns.heatmap(cmn, annot=True, fmt='.2f', xticklabels=[3,4,5,6,7,8], yticklabels=[3,4,5,6,7,8])\n",
    "plt.ylabel('Actual')\n",
    "plt.xlabel('Predicted')\n",
    "plt.show(block=False)"
   ]
  }
 ],
 "metadata": {
  "interpreter": {
   "hash": "7e1998ff7f8aa20ada591c520b972326324e5ea05489af9e422744c7c09f6dad"
  },
  "kernelspec": {
   "display_name": "Python 3.10.0 64-bit",
   "language": "python",
   "name": "python3"
  },
  "language_info": {
   "codemirror_mode": {
    "name": "ipython",
    "version": 3
   },
   "file_extension": ".py",
   "mimetype": "text/x-python",
   "name": "python",
   "nbconvert_exporter": "python",
   "pygments_lexer": "ipython3",
   "version": "3.10.0"
  },
  "orig_nbformat": 4
 },
 "nbformat": 4,
 "nbformat_minor": 2
}
